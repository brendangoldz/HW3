{
 "cells": [
  {
   "cell_type": "code",
   "execution_count": 3,
   "id": "3c4460f0-5ab2-446a-b90e-da6e691cc6c1",
   "metadata": {},
   "outputs": [
    {
     "data": {
      "text/plain": [
       "0.8775894538606404"
      ]
     },
     "execution_count": 3,
     "metadata": {},
     "output_type": "execute_result"
    }
   ],
   "source": [
    "import numpy as np\n",
    "import matplotlib.pyplot as plt\n",
    "\n",
    "from data_handler import DataHandler\n",
    "from calculations import Calculations\n",
    "from gaussian_nb import GaussianNB\n",
    "\n",
    "dh = DataHandler(\"CTG.csv\")\n",
    "data = dh.parse_data()\n",
    "data = dh.shuffle_data(data)\n",
    "data_train, data_test = dh.split_data(data)\n",
    "\n",
    "\n",
    "tX, tY = dh.getXY(data_train, -2, -2)\n",
    "mean, std = dh.zscore_data(tX)\n",
    "vX, vY = dh.getXY(data_test, -2, -2)\n",
    "tX = dh.apply_zscore(mean, std, tX)\n",
    "vX = dh.apply_zscore(mean, std, vX)\n",
    "tY = np.delete(tY, 0, axis=1)\n",
    "vY = np.delete(vY, 0, axis=1)\n",
    "\n",
    "gnb = GaussianNB()\n",
    "means, xvars, priors = gnb.fit(tX, tY)\n",
    "\n",
    "probs = gnb.getPFC(vX, vY, means, xvars, priors)\n",
    "\n",
    "classifiers = np.array(np.unique(vY))\n",
    "\n",
    "preds = classifiers[np.argmax(probs, axis=1)]\n",
    "preds = np.array([preds])\n",
    "#Train Model into NP Array for Predictions\n",
    "calc2 = Calculations(vY, preds)\n",
    "P, TP, TN, FP, FN = calc2.setup_multi()\n",
    "acc = calc2.accuracy(TP, TN, FP, FN)\n",
    "acc"
   ]
  }
 ],
 "metadata": {
  "kernelspec": {
   "display_name": "Python 3 (ipykernel)",
   "language": "python",
   "name": "python3"
  },
  "language_info": {
   "codemirror_mode": {
    "name": "ipython",
    "version": 3
   },
   "file_extension": ".py",
   "mimetype": "text/x-python",
   "name": "python",
   "nbconvert_exporter": "python",
   "pygments_lexer": "ipython3",
   "version": "3.9.12"
  }
 },
 "nbformat": 4,
 "nbformat_minor": 5
}
