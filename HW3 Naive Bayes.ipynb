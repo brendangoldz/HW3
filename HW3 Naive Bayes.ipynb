{
 "cells": [
  {
   "cell_type": "code",
   "execution_count": 1,
   "id": "90c682d3",
   "metadata": {
    "scrolled": true
   },
   "outputs": [
    {
     "data": {
      "text/plain": [
       "(0.8408349641226354, 0.7398843930635838, 0.8888888888888888, 0.807570977917981)"
      ]
     },
     "execution_count": 1,
     "metadata": {},
     "output_type": "execute_result"
    }
   ],
   "source": [
    "import numpy as np\n",
    "import matplotlib.pyplot as plt\n",
    "\n",
    "from data_handler import DataHandler\n",
    "from calculations import Calculations\n",
    "from gaussian_nb import GaussianNB\n",
    "\n",
    "dh = DataHandler(\"spambase.data\")\n",
    "data = dh.parse_data_no_header()\n",
    "data = dh.shuffle_data(data)\n",
    "data_train, data_test = dh.split_data(data)\n",
    "\n",
    "tX, tY = dh.getXY(data_train, -1, -1)\n",
    "mean, std = dh.zscore_data(tX) #Zscore is applied in Dynamic Split Fxn\n",
    "vX, vY = dh.getXY(data_test, -1, -1)\n",
    "tX_, tPriors, tMeans, tVars = dh.dynamic_split(tX, tY, mean, std)\n",
    "vX_, vPriors, vMeans, vVars = dh.dynamic_split(vX, vY, mean, std)\n",
    "# print(tX.shape, tY.shape, vX.shape, vY.shape, tPriors, vPriors)\n",
    "gnb = GaussianNB(tMeans, tVars)\n",
    "#Pull Classifiers into List\n",
    "classifiers = np.unique(vY)\n",
    "#Train Model into NP Array for Predictions\n",
    "preds = np.array([gnb.trainModel(vX, vY, classifiers, tPriors)])\n",
    "#Metrics\n",
    "calc = Calculations(vY, preds)\n",
    "acc, recall, fmeasure, precision = calc.evaluate()\n",
    "acc, recall, fmeasure, precision "
   ]
  },
  {
   "cell_type": "code",
   "execution_count": 2,
   "id": "e80f0b5c",
   "metadata": {},
   "outputs": [
    {
     "data": {
      "text/plain": [
       "0.9369114877589454"
      ]
     },
     "execution_count": 2,
     "metadata": {},
     "output_type": "execute_result"
    }
   ],
   "source": [
    "dh = DataHandler(\"CTG.csv\")\n",
    "data = dh.parse_data()\n",
    "data = dh.shuffle_data(data)\n",
    "data_train, data_test = dh.split_data(data)\n",
    "tX, tY = dh.getXY(data_train, -1, -2)\n",
    "tY = np.delete(tY, 0, axis=1)\n",
    "mean, std = dh.zscore_data(tX)\n",
    "vX, vY = dh.getXY(data_test, -1, -2)\n",
    "vY = np.delete(vY, 0, axis=1)\n",
    "tX_, tPriors, tMeans, tVars = dh.dynamic_split(tX, tY, mean, std)\n",
    "vX_, vPriors, vMeans, vVars = dh.dynamic_split(vX, vY, mean, std)\n",
    "# print(tX.shape, tY.shape, vX.shape, vY.shape, tPriors, vPriors)\n",
    "gnb = GaussianNB(tMeans, tVars)\n",
    "#Pull Classifiers into List\n",
    "classifiers = np.unique(vY)\n",
    "#Train Model into NP Array for Predictions\n",
    "preds = np.array([gnb.trainModel(vX, vY, classifiers, tPriors)])\n",
    "#Metrics\n",
    "calc2 = Calculations(vY, preds)\n",
    "TP, TN, FP, FN = calc2.setup_multi()\n",
    "calc2.accuracy(TP, TN, FP, FN)"
   ]
  }
 ],
 "metadata": {
  "kernelspec": {
   "display_name": "Python 3 (ipykernel)",
   "language": "python",
   "name": "python3"
  },
  "language_info": {
   "codemirror_mode": {
    "name": "ipython",
    "version": 3
   },
   "file_extension": ".py",
   "mimetype": "text/x-python",
   "name": "python",
   "nbconvert_exporter": "python",
   "pygments_lexer": "ipython3",
   "version": "3.9.12"
  }
 },
 "nbformat": 4,
 "nbformat_minor": 5
}
