{
 "cells": [
  {
   "cell_type": "code",
   "execution_count": 26,
   "id": "90c682d3",
   "metadata": {
    "scrolled": true
   },
   "outputs": [
    {
     "data": {
      "text/plain": [
       "(0.8023483365949119,\n",
       " 0.6607773851590106,\n",
       " 0.9739583333333334,\n",
       " 0.7873684210526316)"
      ]
     },
     "execution_count": 26,
     "metadata": {},
     "output_type": "execute_result"
    }
   ],
   "source": [
    "import numpy as np\n",
    "import matplotlib.pyplot as plt\n",
    "\n",
    "from data_handler import DataHandler\n",
    "from calculations import Calculations\n",
    "from gaussian_nb import GaussianNB\n",
    "\n",
    "dh = DataHandler(\"spambase.data\")\n",
    "data = dh.parse_data_no_header()\n",
    "data = dh.shuffle_data(data)\n",
    "data_train, data_test = dh.split_data(data)\n",
    "\n",
    "tX, tY = dh.getXY(data_train, -1, -1)\n",
    "mean, std = dh.zscore_data(tX) #Zscore is applied in Dynamic Split Fxn\n",
    "tX = dh.apply_zscore(mean, std, tX)\n",
    "vX, vY = dh.getXY(data_test, -1, -1)\n",
    "vX = dh.apply_zscore(mean, std, vX)\n",
    "\n",
    "gnb = GaussianNB()\n",
    "means, xvars, priors = gnb.fit(tX, tY)\n",
    "probs = gnb.getPFC(vX, vY, means, xvars, priors)\n",
    "probs = np.array(probs)\n",
    "classifiers = np.array(np.unique(vY))\n",
    "\n",
    "preds = classifiers[np.argmax(probs, axis=1)]\n",
    "preds = np.array([preds])\n",
    "#Train Model into NP Array for Predictions\n",
    "calc = Calculations(vY, preds)\n",
    "acc, precision, recall, fmeasure  = calc.evaluate()\n",
    "acc, precision, recall, fmeasure "
   ]
  },
  {
   "cell_type": "code",
   "execution_count": null,
   "id": "e80f0b5c",
   "metadata": {},
   "outputs": [],
   "source": [
    "# dh = DataHandler(\"CTG.csv\")\n",
    "# data = dh.parse_data()\n",
    "# data = dh.shuffle_data(data)\n",
    "# data_train, data_test = dh.split_data(data)\n",
    "# tX, tY = dh.getXY(data_train, -1, -2)\n",
    "# tY = np.delete(tY, 0, axis=1)\n",
    "# mean, std = dh.zscore_data(tX)\n",
    "# tX = dh.apply_zscore(mean, std, tX)\n",
    "# vX = dh.apply_zscore(mean, std, vX)\n",
    "\n",
    "\n",
    "\n",
    "# vX, vY = dh.getXY(data_test, -1, -2)\n",
    "# vY = np.delete(vY, 0, axis=1)gnb = GaussianNB()\n",
    "# split_X, priors = gnb.fit(tX, tY)\n",
    "# vX_, vpriors = gnb.fit(vX, vY)\n",
    "\n",
    "# means, xvars = gnb.mean_variance(split_X, tY)\n",
    "# probs, preds = gnb.getPFC(vX, vY, means, xvars, vpriors)\n",
    "# print(vY)\n",
    "# preds = np.array([preds], dtype=float)\n",
    "# print(preds)\n",
    "# #Train Model into NP Array for Predictions\n",
    "# calc2 = Calculations(vY, preds)\n",
    "# TP, TN, FP, FN = calc2.setup_multi()\n",
    "# calc2.accuracy(TP, TN, FP, FN)"
   ]
  }
 ],
 "metadata": {
  "kernelspec": {
   "display_name": "Python 3 (ipykernel)",
   "language": "python",
   "name": "python3"
  },
  "language_info": {
   "codemirror_mode": {
    "name": "ipython",
    "version": 3
   },
   "file_extension": ".py",
   "mimetype": "text/x-python",
   "name": "python",
   "nbconvert_exporter": "python",
   "pygments_lexer": "ipython3",
   "version": "3.9.12"
  }
 },
 "nbformat": 4,
 "nbformat_minor": 5
}
